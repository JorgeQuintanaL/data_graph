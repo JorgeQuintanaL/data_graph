{
 "cells": [
  {
   "cell_type": "code",
   "execution_count": 85,
   "metadata": {},
   "outputs": [],
   "source": [
    "\"\"\"\n",
    "Python module to create lines plots using matplotlib as backend\n",
    "\"\"\"\n",
    "\n",
    "import matplotlib.pyplot as plt\n",
    "import yaml\n",
    "import pytest\n",
    "import numpy as np\n",
    "\n",
    "\n",
    "class Plot():\n",
    "    def __init__(self):\n",
    "        self.x = None\n",
    "        self.y = None\n",
    "        self.f = None\n",
    "        self.axs = None\n",
    "        self.template = None\n",
    "\n",
    "    def load_template(self, path):\n",
    "        with open(path, 'r') as f:\n",
    "            self.template = yaml.load(f, Loader=yaml.FullLoader)\n",
    "\n",
    "    def apply_template(self):\n",
    "        self.f.patch.set_facecolor(self.template[\"background-color\"][\"figure-background\"])\n",
    "        self.axs.set_facecolor(self.template[\"background-color\"][\"grid_background\"])\n",
    "\n",
    "    def save(self, name):\n",
    "        self.f.savefig(name)\n",
    "\n",
    "    def show(self):\n",
    "        self.f.show()\n",
    "\n",
    "    def get_data():\n",
    "        return [x, y]\n",
    "\n",
    "\n",
    "class Lines(Plot):\n",
    "    def __init__(self):\n",
    "        Plot.__init__(self)\n",
    "\n",
    "    def plot(self, x: list, y: list, title=\"Some Title\",\n",
    "             xlabel=\"Some Label\", ylabel=\"Some Label\", labs=\"Some Label\"):\n",
    "\n",
    "        self.x = x\n",
    "        self.y = y\n",
    "        self.f, self.axs = plt.subplots(1, 1)\n",
    "        for i in range(len(x)):\n",
    "            if type(x[i]) == np.ndarray:\n",
    "                self.axs.plot(x[i], y[i])\n",
    "                self.axs.set_title(title)\n",
    "                self.axs.set_xlabel(xlabel)\n",
    "                self.axs.set_ylabel(ylabel)\n",
    "                self.axs.legend(labs)\n",
    "            else:\n",
    "                raise(ValueError)"
   ]
  },
  {
   "cell_type": "code",
   "execution_count": 86,
   "metadata": {},
   "outputs": [
    {
     "data": {
      "image/png": "[encoded data removed]",
      "text/plain": [
       "<Figure size 432x288 with 1 Axes>"
      ]
     },
     "metadata": {
      "needs_background": "light"
     },
     "output_type": "display_data"
    }
   ],
   "source": [
    "x1 = [\"Jorge\", 2, 3]\n",
    "y1 = x1\n",
    "\n",
    "lines = Lines()\n",
    "with pytest.raises(ValueError):\n",
    "    lines.plot(x=[x], y=[y], labs=\"Some Label\")"
   ]
  },
  {
   "cell_type": "code",
   "execution_count": 87,
   "metadata": {},
   "outputs": [
    {
     "data": {
      "image/png": "[encoded data removed]",
      "text/plain": [
       "<Figure size 432x288 with 1 Axes>"
      ]
     },
     "metadata": {
      "needs_background": "light"
     },
     "output_type": "display_data"
    }
   ],
   "source": [
    "x1 = np.arange(1, 100, 1)\n",
    "y1 = np.power(x1, 2)\n",
    "\n",
    "x = [x1]\n",
    "y = [y1]\n",
    "\n",
    "lines = Lines()\n",
    "lines.plot(x=x, y=y)"
   ]
  }
 ],
 "metadata": {
  "kernelspec": {
   "display_name": "Python 3",
   "language": "python",
   "name": "python3"
  },
  "language_info": {
   "codemirror_mode": {
    "name": "ipython",
    "version": 3
   },
   "file_extension": ".py",
   "mimetype": "text/x-python",
   "name": "python",
   "nbconvert_exporter": "python",
   "pygments_lexer": "ipython3",
   "version": "3.7.3"
  }
 },
 "nbformat": 4,
 "nbformat_minor": 2
}
